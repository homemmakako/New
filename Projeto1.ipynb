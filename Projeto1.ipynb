{
 "cells": [
  {
   "cell_type": "markdown",
   "id": "e8501668",
   "metadata": {},
   "source": [
    "# Importando"
   ]
  },
  {
   "cell_type": "code",
   "execution_count": 1,
   "id": "79f70f25",
   "metadata": {},
   "outputs": [],
   "source": [
    "import pandas as pd\n",
    "import numpy as np"
   ]
  },
  {
   "cell_type": "code",
   "execution_count": 3,
   "id": "3ea527ef",
   "metadata": {},
   "outputs": [],
   "source": [
    "df = pd.read_csv('H:\\Ambiente de Trabalho\\JEST\\Projeto\\ProjetoTI_part2-master\\Leukemya_data.csv', header = None)\n",
    "target = pd.read_csv('H:\\Ambiente de Trabalho\\JEST\\Projeto\\ProjetoTI_part2-master\\labels.csv', header = None)"
   ]
  },
  {
   "cell_type": "markdown",
   "id": "d19a3445",
   "metadata": {},
   "source": [
    "# Alterando valores para 0 e 1 na tabela de labels"
   ]
  },
  {
   "cell_type": "code",
   "execution_count": 4,
   "id": "8afc961b",
   "metadata": {
    "scrolled": true
   },
   "outputs": [],
   "source": [
    "y = target.applymap(lambda n: n-1)"
   ]
  },
  {
   "cell_type": "markdown",
   "id": "c29bc66e",
   "metadata": {
    "scrolled": true
   },
   "source": [
    "# Dividir dados para treinamento"
   ]
  },
  {
   "cell_type": "code",
   "execution_count": 5,
   "id": "2f03ab5a",
   "metadata": {},
   "outputs": [],
   "source": [
    "df_train = df.head(128)\n",
    "df_test = df.tail(50)"
   ]
  },
  {
   "cell_type": "code",
   "execution_count": 6,
   "id": "dbf3397a",
   "metadata": {
    "scrolled": false
   },
   "outputs": [],
   "source": [
    "from sklearn.model_selection import train_test_split\n",
    "\n",
    "X_train, X_test = train_test_split(df_train, test_size=0.3, shuffle=False, stratify=None)\n",
    "y_train, y_test = train_test_split(y, test_size=0.3, shuffle=False, stratify=None)"
   ]
  },
  {
   "cell_type": "markdown",
   "id": "24bbe9f4",
   "metadata": {},
   "source": [
    "# Importando"
   ]
  },
  {
   "cell_type": "code",
   "execution_count": 7,
   "id": "01058f9b",
   "metadata": {},
   "outputs": [],
   "source": [
    "from sklearn.metrics import accuracy_score\n",
    "from sklearn.metrics import precision_score\n",
    "from sklearn.metrics import matthews_corrcoef\n",
    "from sklearn.metrics import confusion_matrix\n",
    "from sklearn.metrics import roc_curve\n",
    "from sklearn.metrics import auc\n",
    "from sklearn.metrics import confusion_matrix"
   ]
  },
  {
   "cell_type": "code",
   "execution_count": 8,
   "id": "c4d6c7dd",
   "metadata": {},
   "outputs": [],
   "source": [
    "def evaluationModels(y_test, y_pred):\n",
    "    accuracy = accuracy_score(y_test, y_pred)\n",
    "    precision = precision_score(y_test, y_pred)\n",
    "    # Best metric for binary (0/1) classification \n",
    "    mcc = matthews_corrcoef(y_test, y_pred)\n",
    "    FN = confusion_matrix(y_test, y_pred)[0][1]\n",
    "    return accuracy, precision, mcc, FN\n",
    "\n",
    "\n",
    "def printMetrics(model, accuracy, precision, mcc, fp):\n",
    "    modelName = model.__class__.__name__\n",
    "    bar = \"-\" * 25\n",
    "    print(f\"{bar}\\n {modelName}\\n{bar}\")\n",
    "    print(f'- Accuracy: {accuracy:0.3f}')\n",
    "    print(f'- Precision: {precision:0.3f}')\n",
    "    print(f'- MCC: {mcc:0.3f}')\n",
    "    print(f'- False Positives: {fp}')"
   ]
  },
  {
   "cell_type": "markdown",
   "id": "03da2dd5",
   "metadata": {},
   "source": [
    "# Decision Tree Classifier"
   ]
  },
  {
   "cell_type": "code",
   "execution_count": 9,
   "id": "8c124793",
   "metadata": {},
   "outputs": [],
   "source": [
    "from sklearn.tree import DecisionTreeClassifier\n",
    "\n",
    "DT = DecisionTreeClassifier(max_depth=3, random_state=42)\n",
    "DT.fit(X_train, y_train)\n",
    "y_pred_DT = DT.predict(X_test)"
   ]
  },
  {
   "cell_type": "code",
   "execution_count": 10,
   "id": "7855f2f8",
   "metadata": {},
   "outputs": [
    {
     "name": "stdout",
     "output_type": "stream",
     "text": [
      "-------------------------\n",
      " DecisionTreeClassifier\n",
      "-------------------------\n",
      "- Accuracy: 0.923\n",
      "- Precision: 0.833\n",
      "- MCC: 0.726\n",
      "- False Positives: 1\n"
     ]
    }
   ],
   "source": [
    "accuracy, precision, mcc, fp = metricsDT = evaluationModels(y_test, y_pred_DT)\n",
    "printMetrics(DT, accuracy, precision, mcc, fp)"
   ]
  },
  {
   "cell_type": "markdown",
   "id": "8830fd3a",
   "metadata": {},
   "source": [
    "# Random Forest"
   ]
  },
  {
   "cell_type": "code",
   "execution_count": 11,
   "id": "b472d170",
   "metadata": {},
   "outputs": [
    {
     "name": "stderr",
     "output_type": "stream",
     "text": [
      "C:\\Users\\TESTER\\AppData\\Local\\Temp/ipykernel_9860/3898969665.py:4: DataConversionWarning: A column-vector y was passed when a 1d array was expected. Please change the shape of y to (n_samples,), for example using ravel().\n",
      "  RF.fit(X_train, y_train)\n"
     ]
    }
   ],
   "source": [
    "from sklearn.ensemble import RandomForestClassifier\n",
    "\n",
    "RF = RandomForestClassifier(max_depth=4, random_state=42)\n",
    "RF.fit(X_train, y_train)\n",
    "y_pred_RF = RF.predict(X_test)"
   ]
  },
  {
   "cell_type": "code",
   "execution_count": 12,
   "id": "a0de09e4",
   "metadata": {},
   "outputs": [
    {
     "name": "stdout",
     "output_type": "stream",
     "text": [
      "-------------------------\n",
      " RandomForestClassifier\n",
      "-------------------------\n",
      "- Accuracy: 0.949\n",
      "- Precision: 1.000\n",
      "- MCC: 0.820\n",
      "- False Positives: 0\n"
     ]
    }
   ],
   "source": [
    "accuracy, precision, mcc, fp = metricsRF = evaluationModels(y_test, y_pred_RF)\n",
    "printMetrics(RF, accuracy, precision, mcc, fp)"
   ]
  },
  {
   "cell_type": "markdown",
   "id": "a1135881",
   "metadata": {},
   "source": [
    "# K Nearest Neighbors (KNN)"
   ]
  },
  {
   "cell_type": "code",
   "execution_count": 13,
   "id": "8f8e845c",
   "metadata": {},
   "outputs": [
    {
     "name": "stderr",
     "output_type": "stream",
     "text": [
      "H:\\Programas Faculdade\\Anaconda\\lib\\site-packages\\sklearn\\neighbors\\_classification.py:179: DataConversionWarning: A column-vector y was passed when a 1d array was expected. Please change the shape of y to (n_samples,), for example using ravel().\n",
      "  return self._fit(X, y)\n"
     ]
    }
   ],
   "source": [
    "from sklearn.neighbors import KNeighborsClassifier\n",
    "\n",
    "KNN = KNeighborsClassifier(metric='euclidean')\n",
    "KNN.fit(X_train, y_train)\n",
    "y_pred_KNN = KNN.predict(X_test)"
   ]
  },
  {
   "cell_type": "code",
   "execution_count": 14,
   "id": "f4cf0e66",
   "metadata": {},
   "outputs": [
    {
     "name": "stdout",
     "output_type": "stream",
     "text": [
      "-------------------------\n",
      " KNeighborsClassifier\n",
      "-------------------------\n",
      "- Accuracy: 0.872\n",
      "- Precision: 1.000\n",
      "- MCC: 0.497\n",
      "- False Positives: 0\n"
     ]
    }
   ],
   "source": [
    "accuracy, precision, mcc, fp = metricsKNN = evaluationModels(y_test, y_pred_KNN)\n",
    "printMetrics(KNN, accuracy, precision, mcc, fp)"
   ]
  },
  {
   "cell_type": "markdown",
   "id": "5619b616",
   "metadata": {},
   "source": [
    "# XGBoost (Ensemble model)"
   ]
  },
  {
   "cell_type": "code",
   "execution_count": 15,
   "id": "d1a3d41d",
   "metadata": {},
   "outputs": [
    {
     "ename": "ModuleNotFoundError",
     "evalue": "No module named 'xgboost'",
     "output_type": "error",
     "traceback": [
      "\u001b[1;31m---------------------------------------------------------------------------\u001b[0m",
      "\u001b[1;31mModuleNotFoundError\u001b[0m                       Traceback (most recent call last)",
      "\u001b[1;32m~\\AppData\\Local\\Temp/ipykernel_9860/3324778507.py\u001b[0m in \u001b[0;36m<module>\u001b[1;34m\u001b[0m\n\u001b[1;32m----> 1\u001b[1;33m \u001b[1;32mimport\u001b[0m \u001b[0mxgboost\u001b[0m \u001b[1;32mas\u001b[0m \u001b[0mxgb\u001b[0m\u001b[1;33m\u001b[0m\u001b[1;33m\u001b[0m\u001b[0m\n\u001b[0m\u001b[0;32m      2\u001b[0m \u001b[1;33m\u001b[0m\u001b[0m\n\u001b[0;32m      3\u001b[0m \u001b[0mXGB\u001b[0m \u001b[1;33m=\u001b[0m \u001b[0mxgb\u001b[0m\u001b[1;33m.\u001b[0m\u001b[0mXGBClassifier\u001b[0m\u001b[1;33m(\u001b[0m\u001b[0mmax_depth\u001b[0m\u001b[1;33m=\u001b[0m\u001b[1;36m4\u001b[0m\u001b[1;33m,\u001b[0m \u001b[0mrandom_state\u001b[0m\u001b[1;33m=\u001b[0m\u001b[1;36m42\u001b[0m\u001b[1;33m)\u001b[0m\u001b[1;33m\u001b[0m\u001b[1;33m\u001b[0m\u001b[0m\n\u001b[0;32m      4\u001b[0m \u001b[0mXGB\u001b[0m\u001b[1;33m.\u001b[0m\u001b[0mfit\u001b[0m\u001b[1;33m(\u001b[0m\u001b[0mX_train\u001b[0m\u001b[1;33m,\u001b[0m \u001b[0my_train\u001b[0m\u001b[1;33m)\u001b[0m\u001b[1;33m\u001b[0m\u001b[1;33m\u001b[0m\u001b[0m\n\u001b[0;32m      5\u001b[0m \u001b[0my_pred_XGB\u001b[0m \u001b[1;33m=\u001b[0m \u001b[0mXGB\u001b[0m\u001b[1;33m.\u001b[0m\u001b[0mpredict\u001b[0m\u001b[1;33m(\u001b[0m\u001b[0mX_test\u001b[0m\u001b[1;33m)\u001b[0m\u001b[1;33m\u001b[0m\u001b[1;33m\u001b[0m\u001b[0m\n",
      "\u001b[1;31mModuleNotFoundError\u001b[0m: No module named 'xgboost'"
     ]
    }
   ],
   "source": [
    "import xgboost as xgb\n",
    "\n",
    "XGB = xgb.XGBClassifier(max_depth=4, random_state=42)\n",
    "XGB.fit(X_train, y_train)\n",
    "y_pred_XGB = XGB.predict(X_test)"
   ]
  },
  {
   "cell_type": "code",
   "execution_count": 16,
   "id": "a799120c",
   "metadata": {},
   "outputs": [
    {
     "ename": "NameError",
     "evalue": "name 'y_pred_XGB' is not defined",
     "output_type": "error",
     "traceback": [
      "\u001b[1;31m---------------------------------------------------------------------------\u001b[0m",
      "\u001b[1;31mNameError\u001b[0m                                 Traceback (most recent call last)",
      "\u001b[1;32m~\\AppData\\Local\\Temp/ipykernel_9860/2768189485.py\u001b[0m in \u001b[0;36m<module>\u001b[1;34m\u001b[0m\n\u001b[1;32m----> 1\u001b[1;33m \u001b[0maccuracy\u001b[0m\u001b[1;33m,\u001b[0m \u001b[0mprecision\u001b[0m\u001b[1;33m,\u001b[0m \u001b[0mmcc\u001b[0m\u001b[1;33m,\u001b[0m \u001b[0mfp\u001b[0m \u001b[1;33m=\u001b[0m \u001b[0mmetricsXGB\u001b[0m \u001b[1;33m=\u001b[0m \u001b[0mevaluationModels\u001b[0m\u001b[1;33m(\u001b[0m\u001b[0my_test\u001b[0m\u001b[1;33m,\u001b[0m \u001b[0my_pred_XGB\u001b[0m\u001b[1;33m)\u001b[0m\u001b[1;33m\u001b[0m\u001b[1;33m\u001b[0m\u001b[0m\n\u001b[0m\u001b[0;32m      2\u001b[0m \u001b[0mprintMetrics\u001b[0m\u001b[1;33m(\u001b[0m\u001b[0mXGB\u001b[0m\u001b[1;33m,\u001b[0m \u001b[0maccuracy\u001b[0m\u001b[1;33m,\u001b[0m \u001b[0mprecision\u001b[0m\u001b[1;33m,\u001b[0m \u001b[0mmcc\u001b[0m\u001b[1;33m,\u001b[0m \u001b[0mfp\u001b[0m\u001b[1;33m)\u001b[0m\u001b[1;33m\u001b[0m\u001b[1;33m\u001b[0m\u001b[0m\n",
      "\u001b[1;31mNameError\u001b[0m: name 'y_pred_XGB' is not defined"
     ]
    }
   ],
   "source": [
    "accuracy, precision, mcc, fp = metricsXGB = evaluationModels(y_test, y_pred_XGB)\n",
    "printMetrics(XGB, accuracy, precision, mcc, fp)"
   ]
  },
  {
   "cell_type": "markdown",
   "id": "9f0f8b4c",
   "metadata": {},
   "source": [
    "# Neural Network"
   ]
  },
  {
   "cell_type": "code",
   "execution_count": 17,
   "id": "7f896120",
   "metadata": {},
   "outputs": [
    {
     "name": "stderr",
     "output_type": "stream",
     "text": [
      "H:\\Programas Faculdade\\Anaconda\\lib\\site-packages\\sklearn\\utils\\validation.py:63: DataConversionWarning: A column-vector y was passed when a 1d array was expected. Please change the shape of y to (n_samples, ), for example using ravel().\n",
      "  return f(*args, **kwargs)\n"
     ]
    }
   ],
   "source": [
    "from sklearn.neural_network import MLPClassifier\n",
    "\n",
    "MLP = MLPClassifier(alpha=1, max_iter=1000)\n",
    "MLP.fit(X_train, y_train)\n",
    "y_pred_MLP = MLP.predict(X_test)"
   ]
  },
  {
   "cell_type": "code",
   "execution_count": 18,
   "id": "9414c815",
   "metadata": {},
   "outputs": [
    {
     "name": "stdout",
     "output_type": "stream",
     "text": [
      "-------------------------\n",
      " MLPClassifier\n",
      "-------------------------\n",
      "- Accuracy: 0.923\n",
      "- Precision: 1.000\n",
      "- MCC: 0.723\n",
      "- False Positives: 0\n"
     ]
    }
   ],
   "source": [
    "accuracy, precision, mcc, fp = metricsMLP = evaluationModels(y_test, y_pred_MLP)\n",
    "printMetrics(MLP, accuracy, precision, mcc, fp)"
   ]
  },
  {
   "cell_type": "markdown",
   "id": "8dc1c40e",
   "metadata": {},
   "source": [
    "# Comparison of models"
   ]
  },
  {
   "cell_type": "code",
   "execution_count": 19,
   "id": "6446ca19",
   "metadata": {},
   "outputs": [
    {
     "ename": "NameError",
     "evalue": "name 'metricsThreshold' is not defined",
     "output_type": "error",
     "traceback": [
      "\u001b[1;31m---------------------------------------------------------------------------\u001b[0m",
      "\u001b[1;31mNameError\u001b[0m                                 Traceback (most recent call last)",
      "\u001b[1;32m~\\AppData\\Local\\Temp/ipykernel_9860/2880838784.py\u001b[0m in \u001b[0;36m<module>\u001b[1;34m\u001b[0m\n\u001b[0;32m      1\u001b[0m results_accuracy = {\n\u001b[1;32m----> 2\u001b[1;33m     \u001b[1;34m'Threshold'\u001b[0m\u001b[1;33m:\u001b[0m \u001b[0mmetricsThreshold\u001b[0m\u001b[1;33m[\u001b[0m\u001b[1;36m0\u001b[0m\u001b[1;33m]\u001b[0m\u001b[1;33m,\u001b[0m\u001b[1;33m\u001b[0m\u001b[1;33m\u001b[0m\u001b[0m\n\u001b[0m\u001b[0;32m      3\u001b[0m     \u001b[1;34m'DT'\u001b[0m\u001b[1;33m:\u001b[0m \u001b[0mmetricsDT\u001b[0m\u001b[1;33m[\u001b[0m\u001b[1;36m0\u001b[0m\u001b[1;33m]\u001b[0m\u001b[1;33m,\u001b[0m\u001b[1;33m\u001b[0m\u001b[1;33m\u001b[0m\u001b[0m\n\u001b[0;32m      4\u001b[0m     \u001b[1;34m'RF'\u001b[0m\u001b[1;33m:\u001b[0m \u001b[0mmetricsRF\u001b[0m\u001b[1;33m[\u001b[0m\u001b[1;36m0\u001b[0m\u001b[1;33m]\u001b[0m\u001b[1;33m,\u001b[0m\u001b[1;33m\u001b[0m\u001b[1;33m\u001b[0m\u001b[0m\n\u001b[0;32m      5\u001b[0m     \u001b[1;34m'KNN'\u001b[0m\u001b[1;33m:\u001b[0m \u001b[0mmetricsKNN\u001b[0m\u001b[1;33m[\u001b[0m\u001b[1;36m0\u001b[0m\u001b[1;33m]\u001b[0m\u001b[1;33m,\u001b[0m\u001b[1;33m\u001b[0m\u001b[1;33m\u001b[0m\u001b[0m\n",
      "\u001b[1;31mNameError\u001b[0m: name 'metricsThreshold' is not defined"
     ]
    }
   ],
   "source": [
    "results_accuracy = {\n",
    "    'Threshold': metricsThreshold[0],\n",
    "    'DT': metricsDT[0],\n",
    "    'RF': metricsRF[0],\n",
    "    'KNN': metricsKNN[0],\n",
    "    'MLP': metricsMLP[0],\n",
    "    'XGB': metricsXGB[0],\n",
    "    \n",
    "}\n",
    "results_precision = {\n",
    "    'Threshold': metricsThreshold[1],\n",
    "    'DT': metricsDT[1],\n",
    "    'RF': metricsRF[1],\n",
    "    'KNN': metricsKNN[1],\n",
    "    'MLP': metricsMLP[1],\n",
    "    'XGB': metricsXGB[1],\n",
    "}\n",
    "results_mcc = {\n",
    "    'Threshold': metricsThreshold[2],\n",
    "    'DT': metricsDT[2],\n",
    "    'RF': metricsRF[2],\n",
    "    'KNN': metricsKNN[2],\n",
    "    'MLP': metricsMLP[2],\n",
    "    'XGB': metricsXGB[2],\n",
    "}\n",
    "\n",
    "results_fp = {\n",
    "    'Threshold': metricsThreshold[3],\n",
    "    'DT': metricsDT[3],\n",
    "    'RF': metricsRF[3],\n",
    "    'KNN': metricsKNN[3],\n",
    "    'MLP': metricsMLP[3],\n",
    "    'XGB': metricsXGB[3],\n",
    "}\n",
    "\n",
    "acc_df = pd.DataFrame.from_dict(results_accuracy, orient='index', columns=['Accuracy'])\n",
    "precision_df = pd.DataFrame.from_dict(results_precision, orient='index', columns=['Precision'])\n",
    "mcc_df = pd.DataFrame.from_dict(results_mcc, orient='index', columns=['MCC'])\n",
    "fp_df = pd.DataFrame.from_dict(results_fp, orient='index', columns=['FP'])\n",
    "results = pd.concat([acc_df, precision_df, mcc_df, fp_df], axis=1)\n",
    "results"
   ]
  },
  {
   "cell_type": "code",
   "execution_count": null,
   "id": "53a15d1c",
   "metadata": {},
   "outputs": [],
   "source": []
  },
  {
   "cell_type": "code",
   "execution_count": null,
   "id": "4ec03b8d",
   "metadata": {},
   "outputs": [],
   "source": []
  }
 ],
 "metadata": {
  "kernelspec": {
   "display_name": "Python 3 (ipykernel)",
   "language": "python",
   "name": "python3"
  },
  "language_info": {
   "codemirror_mode": {
    "name": "ipython",
    "version": 3
   },
   "file_extension": ".py",
   "mimetype": "text/x-python",
   "name": "python",
   "nbconvert_exporter": "python",
   "pygments_lexer": "ipython3",
   "version": "3.9.7"
  }
 },
 "nbformat": 4,
 "nbformat_minor": 5
}

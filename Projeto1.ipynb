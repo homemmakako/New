{
 "cells": [
  {
   "cell_type": "markdown",
   "id": "e8501668",
   "metadata": {},
   "source": [
    "# Importando dados\n",
    "\n"
   ]
  },
  {
   "cell_type": "code",
   "execution_count": 1,
   "id": "79f70f25",
   "metadata": {},
   "outputs": [],
   "source": [
    "import pandas as pd\n",
    "import numpy as np"
   ]
  },
  {
   "cell_type": "code",
   "execution_count": 2,
   "id": "3ea527ef",
   "metadata": {},
   "outputs": [],
   "source": [
    "df = pd.read_csv('H:\\Ambiente de Trabalho\\JEST\\Projeto\\ProjetoTI_part2-master\\Leukemya_data.csv', header = None)\n",
    "target = pd.read_csv('H:\\Ambiente de Trabalho\\JEST\\Projeto\\ProjetoTI_part2-master\\labels.csv', header = None)"
   ]
  },
  {
   "cell_type": "code",
   "execution_count": 26,
   "id": "9e5e2688",
   "metadata": {},
   "outputs": [
    {
     "data": {
      "text/plain": [
       "1    111\n",
       "2     17\n",
       "dtype: int64"
      ]
     },
     "execution_count": 26,
     "metadata": {},
     "output_type": "execute_result"
    }
   ],
   "source": [
    "target.value_counts()"
   ]
  },
  {
   "cell_type": "markdown",
   "id": "d19a3445",
   "metadata": {},
   "source": [
    "# Alterando valores para 0 e 1 na tabela de labels"
   ]
  },
  {
   "cell_type": "code",
   "execution_count": 36,
   "id": "8afc961b",
   "metadata": {
    "scrolled": true
   },
   "outputs": [],
   "source": [
    "y = target.applymap(lambda n: n-1)"
   ]
  },
  {
   "cell_type": "markdown",
   "id": "c29bc66e",
   "metadata": {
    "scrolled": true
   },
   "source": [
    "# Dividir dados para treinamento"
   ]
  },
  {
   "cell_type": "code",
   "execution_count": 37,
   "id": "2f03ab5a",
   "metadata": {},
   "outputs": [],
   "source": [
    "df_train = df.head(128)\n",
    "df_test = df.tail(50)"
   ]
  },
  {
   "cell_type": "code",
   "execution_count": 40,
   "id": "dbf3397a",
   "metadata": {
    "scrolled": false
   },
   "outputs": [],
   "source": [
    "from sklearn.model_selection import train_test_split\n",
    "\n",
    "X_train, X_test = train_test_split(df_train, test_size=0.3, shuffle=False, stratify=None)\n",
    "y_train, y_test = train_test_split(y, test_size=0.3, shuffle=False, stratify=None)"
   ]
  },
  {
   "cell_type": "markdown",
   "id": "24bbe9f4",
   "metadata": {},
   "source": [
    "# Importando"
   ]
  },
  {
   "cell_type": "code",
   "execution_count": 41,
   "id": "01058f9b",
   "metadata": {},
   "outputs": [],
   "source": [
    "from sklearn.metrics import accuracy_score\n",
    "from sklearn.metrics import precision_score\n",
    "from sklearn.metrics import matthews_corrcoef\n",
    "from sklearn.metrics import confusion_matrix\n",
    "from sklearn.metrics import roc_curve\n",
    "from sklearn.metrics import auc\n",
    "from sklearn.metrics import confusion_matrix"
   ]
  },
  {
   "cell_type": "code",
   "execution_count": 44,
   "id": "c4d6c7dd",
   "metadata": {},
   "outputs": [],
   "source": [
    "def evaluationModels(y_test, y_pred):\n",
    "    accuracy = accuracy_score(y_test, y_pred)\n",
    "    precision = precision_score(y_test, y_pred)\n",
    "    # Best metric for binary (0/1) classification \n",
    "    mcc = matthews_corrcoef(y_test, y_pred)\n",
    "    FN = confusion_matrix(y_test, y_pred)[1][0]\n",
    "    return accuracy, precision, mcc, FN\n",
    "\n",
    "\n",
    "def printMetrics(model, accuracy, precision, mcc, fp):\n",
    "    modelName = model.__class__.__name__\n",
    "    bar = \"-\" * 25\n",
    "    print(f\"{bar}\\n {modelName}\\n{bar}\")\n",
    "    print(f'- Accuracy: {accuracy:0.3f}')\n",
    "    print(f'- Precision: {precision:0.3f}')\n",
    "    print(f'- MCC: {mcc:0.3f}')\n",
    "    print(f'- False Positives: {fp}')"
   ]
  },
  {
   "cell_type": "markdown",
   "id": "d13ed45f",
   "metadata": {},
   "source": [
    "# Decision Tree Classifier"
   ]
  },
  {
   "cell_type": "code",
   "execution_count": null,
   "id": "16ef1bb0",
   "metadata": {},
   "outputs": [],
   "source": [
    "from sklearn.tree import DecisionTreeClassifier\n",
    "\n",
    "DT = DecisionTreeClassifier(max_depth=3, random_state=42)\n",
    "DT.fit(X_train, y_train)\n",
    "y_pred_DT = DT.predict(df_test)"
   ]
  },
  {
   "cell_type": "code",
   "execution_count": null,
   "id": "7855f2f8",
   "metadata": {},
   "outputs": [],
   "source": []
  },
  {
   "cell_type": "code",
   "execution_count": null,
   "id": "bfd4cc52",
   "metadata": {},
   "outputs": [],
   "source": []
  }
 ],
 "metadata": {
  "kernelspec": {
   "display_name": "Python 3 (ipykernel)",
   "language": "python",
   "name": "python3"
  },
  "language_info": {
   "codemirror_mode": {
    "name": "ipython",
    "version": 3
   },
   "file_extension": ".py",
   "mimetype": "text/x-python",
   "name": "python",
   "nbconvert_exporter": "python",
   "pygments_lexer": "ipython3",
   "version": "3.9.7"
  }
 },
 "nbformat": 4,
 "nbformat_minor": 5
}

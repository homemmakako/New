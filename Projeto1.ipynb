{
 "cells": [
  {
   "cell_type": "markdown",
   "id": "e8501668",
   "metadata": {},
   "source": [
    "# Importando dados\n",
    "\n"
   ]
  },
  {
   "cell_type": "code",
   "execution_count": 722,
   "id": "79f70f25",
   "metadata": {},
   "outputs": [],
   "source": [
    "import pandas as pd\n",
    "import numpy as np\n",
    "from pathlib import Path"
   ]
  },
  {
   "cell_type": "markdown",
   "id": "3e9d578e",
   "metadata": {},
   "source": [
    "> Os dados são importados utilizando a `pathlib` a fim de evitar problemas de caminho de UNIX x Windows"
   ]
  },
  {
   "cell_type": "code",
   "execution_count": 723,
   "id": "3ea527ef",
   "metadata": {},
   "outputs": [],
   "source": [
    "dataPath = Path('Leukemya_data.csv').relative_to('.')\n",
    "targetPath = Path('labels.csv').relative_to('.')\n",
    "dados = pd.read_csv(dataPath, header = None)\n",
    "resultados = pd.read_csv(targetPath, header = None)"
   ]
  },
  {
   "cell_type": "markdown",
   "id": "c29bc66e",
   "metadata": {
    "scrolled": true
   },
   "source": [
    "# Dividir dados para treinamento"
   ]
  },
  {
   "cell_type": "code",
   "execution_count": 724,
   "id": "2f03ab5a",
   "metadata": {},
   "outputs": [],
   "source": [
    "dados_conhecidos = dados.head(128)\n",
    "dados_teste = dados.tail(50)"
   ]
  },
  {
   "cell_type": "markdown",
   "id": "d1449e02",
   "metadata": {},
   "source": [
    "# Definição do Modelo"
   ]
  },
  {
   "cell_type": "markdown",
   "id": "34c7482f",
   "metadata": {},
   "source": [
    "> Os treinos serão usados para treinar o `DecisionTreeClassifier` enquanto os testes serão utilizados para verifcar as estatísticas do modelo treinado (precisão, acurácia, etc)"
   ]
  },
  {
   "cell_type": "code",
   "execution_count": 725,
   "id": "dbf3397a",
   "metadata": {
    "scrolled": false
   },
   "outputs": [],
   "source": [
    "from sklearn.model_selection import train_test_split\n",
    "from sklearn.tree import DecisionTreeClassifier\n",
    "\n",
    "x_treino, x_teste, y_treino, y_teste = train_test_split(dados_conhecidos, resultados, test_size=0.3, shuffle=False, stratify=None)\n",
    "DT = DecisionTreeClassifier(random_state=128).fit(x_treino, y_treino)"
   ]
  },
  {
   "cell_type": "markdown",
   "id": "24bbe9f4",
   "metadata": {},
   "source": [
    "# Análise do Modelo"
   ]
  },
  {
   "cell_type": "markdown",
   "id": "f69ca419",
   "metadata": {},
   "source": [
    "### Importando"
   ]
  },
  {
   "cell_type": "code",
   "execution_count": 726,
   "id": "01058f9b",
   "metadata": {},
   "outputs": [],
   "source": [
    "from sklearn.metrics import accuracy_score\n",
    "from sklearn.metrics import precision_score\n",
    "from sklearn.metrics import matthews_corrcoef\n",
    "from sklearn.metrics import confusion_matrix\n",
    "from sklearn.metrics import roc_curve # Desnecesário\n",
    "from sklearn.metrics import auc # Desnecesário"
   ]
  },
  {
   "cell_type": "markdown",
   "id": "c1add15b",
   "metadata": {},
   "source": [
    "### Estatísticas do Modelo "
   ]
  },
  {
   "cell_type": "code",
   "execution_count": 727,
   "id": "c4d6c7dd",
   "metadata": {},
   "outputs": [
    {
     "name": "stdout",
     "output_type": "stream",
     "text": [
      "Acurácia: 0.949\n",
      "Precisão: 0.941\n",
      "Coeficiente de Matthes: 0.820\n",
      "Falsos Positivos: 0\n",
      "Falsos Negativos: 2\n"
     ]
    }
   ],
   "source": [
    "previsao = DT.predict(x_teste)\n",
    "acuracia = accuracy_score(y_teste, previsao)\n",
    "precisao = precision_score(y_teste, previsao)\n",
    "mcc = matthews_corrcoef(y_teste, previsao)\n",
    "tn, fp, fn, tp = confusion_matrix(y_teste, previsao).ravel()\n",
    "\n",
    "print(f'Acurácia: {acuracia:0.3f}')\n",
    "print(f'Precisão: {precisao:0.3f}')\n",
    "print(f'Coeficiente de Matthes: {mcc:0.3f}')\n",
    "print(f'Falsos Positivos: {fp}')\n",
    "print(f'Falsos Negativos: {fn}')\n"
   ]
  },
  {
   "cell_type": "markdown",
   "id": "c512f893",
   "metadata": {},
   "source": [
    "# Resultado"
   ]
  },
  {
   "cell_type": "markdown",
   "id": "60714eac",
   "metadata": {},
   "source": [
    "> O Resultado é salvo no arquivo `Diagnostico.csv` apenas com os pacientes faltantes (50 últimos)"
   ]
  },
  {
   "cell_type": "code",
   "execution_count": 728,
   "id": "e2b2d62e",
   "metadata": {},
   "outputs": [],
   "source": [
    "numero_diagnostico = pd.DataFrame({ \"Diagnóstico\": DT.predict(dados_teste)}, index=dados_teste.index, )\n",
    "diagnostico = numero_diagnostico.applymap(lambda n: \"Leucemia\" if n == 2 else \"Saudável\")\n",
    "\n",
    "pd.concat([dados_teste, diagnostico], axis=1).to_csv(\"Diagnostico.csv\")"
   ]
  }
 ],
 "metadata": {
  "kernelspec": {
   "display_name": "Python 3 (ipykernel)",
   "language": "python",
   "name": "python3"
  },
  "language_info": {
   "codemirror_mode": {
    "name": "ipython",
    "version": 3
   },
   "file_extension": ".py",
   "mimetype": "text/x-python",
   "name": "python",
   "nbconvert_exporter": "python",
   "pygments_lexer": "ipython3",
   "version": "3.9.9"
  }
 },
 "nbformat": 4,
 "nbformat_minor": 5
}
